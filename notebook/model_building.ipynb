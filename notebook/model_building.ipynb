{
 "cells": [
  {
   "cell_type": "code",
   "execution_count": 24,
   "metadata": {},
   "outputs": [],
   "source": [
    "import pandas as pd\n",
    "import matplotlib.pyplot as plt\n",
    "import numpy as np\n",
    "import statsmodels.api as sm\n",
    "import xgboost as xgb\n",
    "import pickle\n",
    "from sklearn.svm import SVR\n",
    "from sklearn.neural_network import MLPRegressor\n",
    "from sklearn.metrics import mean_squared_error\n",
    "from sklearn.model_selection import train_test_split\n",
    "from sklearn.linear_model import LinearRegression, Lasso\n",
    "from sklearn.model_selection import cross_val_score\n",
    "from sklearn.ensemble import RandomForestRegressor\n",
    "from sklearn.model_selection import GridSearchCV\n",
    "from sklearn.metrics import mean_absolute_error"
   ]
  },
  {
   "cell_type": "code",
   "execution_count": 25,
   "metadata": {},
   "outputs": [],
   "source": [
    "df = pd.read_csv('../dataset/updated_ds_jobs_2021.csv')"
   ]
  },
  {
   "cell_type": "markdown",
   "metadata": {},
   "source": [
    "What we will do\n",
    "\n",
    "- Choose relevant columns\n",
    "- Get dummy data\n",
    "- Train - Test split\n",
    "- Test various types of models\n",
    "    - Multiple Linear Regression\n",
    "    - Lasso Regression\n",
    "    - Random Forest\n",
    "    - Gradiant Booster Tree\n",
    "    - Support Vector Regression\n",
    "    - Neural Network Regressor\n",
    "- Tune the Models using GridsearchCV\n",
    "- Test Ensembles"
   ]
  },
  {
   "cell_type": "code",
   "execution_count": 26,
   "metadata": {},
   "outputs": [
    {
     "data": {
      "text/plain": [
       "Index(['job_title', 'seniority', 'job_title_sim', 'job_description', 'python',\n",
       "       'spark', 'aws', 'excel', 'sql', 'sas', 'keras', 'pytorch', 'scikit',\n",
       "       'tensor', 'hadoop', 'tableau', 'bi', 'flink', 'mongo', 'google_an',\n",
       "       'higher_degree', 'higher_degree_needed', 'avg_salary_hour',\n",
       "       'avg_salary_month', 'avg_salary_year', 'employer_provided',\n",
       "       'job_location', 'job_location_city', 'company', 'company_headquarters',\n",
       "       'company_headquarters_city', 'same_place', 'rating',\n",
       "       'number_of_workers', 'revenue(USD)', 'founded', 'type_of_ownership',\n",
       "       'industry', 'sector', 'age', 'competitors', 'number_competitors'],\n",
       "      dtype='object')"
      ]
     },
     "execution_count": 26,
     "metadata": {},
     "output_type": "execute_result"
    }
   ],
   "source": [
    "df.columns"
   ]
  },
  {
   "cell_type": "markdown",
   "metadata": {},
   "source": [
    "We will be using only a few selected columns to speed the process"
   ]
  },
  {
   "cell_type": "code",
   "execution_count": 27,
   "metadata": {},
   "outputs": [],
   "source": [
    "#choosing relevant columns\n",
    "df_model = df[['avg_salary_month','python', 'spark', 'aws', 'excel', 'sql', 'sas', 'keras', 'pytorch', 'scikit',\n",
    "       'tensor', 'hadoop', 'tableau', 'bi', 'flink', 'mongo', 'google_an']]"
   ]
  },
  {
   "cell_type": "markdown",
   "metadata": {},
   "source": [
    "The code below would be all the columns we could use for this prediction"
   ]
  },
  {
   "cell_type": "code",
   "execution_count": 28,
   "metadata": {},
   "outputs": [],
   "source": [
    "#choosing relevant columns\n",
    "#df_model = df[['avg_salary_month','rating', 'number_of_workers', 'type_of_ownership', 'revenue(USD)', 'number_competitors', 'employer_provided', 'same_place', 'age', 'python', 'spark', 'aws', 'excel', 'sql', 'sas', 'keras', 'pytorch', 'scikit',\n",
    "#       'tensor', 'hadoop', 'tableau', 'bi', 'flink', 'mongo', 'google_an', 'job_title_sim', 'seniority', 'sector', 'industry', 'job_location']]"
   ]
  },
  {
   "cell_type": "code",
   "execution_count": 29,
   "metadata": {},
   "outputs": [
    {
     "data": {
      "text/html": [
       "<div>\n",
       "<style scoped>\n",
       "    .dataframe tbody tr th:only-of-type {\n",
       "        vertical-align: middle;\n",
       "    }\n",
       "\n",
       "    .dataframe tbody tr th {\n",
       "        vertical-align: top;\n",
       "    }\n",
       "\n",
       "    .dataframe thead th {\n",
       "        text-align: right;\n",
       "    }\n",
       "</style>\n",
       "<table border=\"1\" class=\"dataframe\">\n",
       "  <thead>\n",
       "    <tr style=\"text-align: right;\">\n",
       "      <th></th>\n",
       "      <th>avg_salary_month</th>\n",
       "      <th>python</th>\n",
       "      <th>spark</th>\n",
       "      <th>aws</th>\n",
       "      <th>excel</th>\n",
       "      <th>sql</th>\n",
       "      <th>sas</th>\n",
       "      <th>keras</th>\n",
       "      <th>pytorch</th>\n",
       "      <th>scikit</th>\n",
       "      <th>tensor</th>\n",
       "      <th>hadoop</th>\n",
       "      <th>tableau</th>\n",
       "      <th>bi</th>\n",
       "      <th>flink</th>\n",
       "      <th>mongo</th>\n",
       "      <th>google_an</th>\n",
       "    </tr>\n",
       "  </thead>\n",
       "  <tbody>\n",
       "    <tr>\n",
       "      <th>0</th>\n",
       "      <td>6001.0</td>\n",
       "      <td>1</td>\n",
       "      <td>0</td>\n",
       "      <td>0</td>\n",
       "      <td>1</td>\n",
       "      <td>0</td>\n",
       "      <td>1</td>\n",
       "      <td>0</td>\n",
       "      <td>0</td>\n",
       "      <td>0</td>\n",
       "      <td>0</td>\n",
       "      <td>0</td>\n",
       "      <td>1</td>\n",
       "      <td>1</td>\n",
       "      <td>0</td>\n",
       "      <td>0</td>\n",
       "      <td>0</td>\n",
       "    </tr>\n",
       "    <tr>\n",
       "      <th>1</th>\n",
       "      <td>7292.0</td>\n",
       "      <td>1</td>\n",
       "      <td>0</td>\n",
       "      <td>0</td>\n",
       "      <td>0</td>\n",
       "      <td>0</td>\n",
       "      <td>0</td>\n",
       "      <td>0</td>\n",
       "      <td>0</td>\n",
       "      <td>0</td>\n",
       "      <td>0</td>\n",
       "      <td>0</td>\n",
       "      <td>0</td>\n",
       "      <td>0</td>\n",
       "      <td>0</td>\n",
       "      <td>0</td>\n",
       "      <td>0</td>\n",
       "    </tr>\n",
       "    <tr>\n",
       "      <th>2</th>\n",
       "      <td>7084.0</td>\n",
       "      <td>1</td>\n",
       "      <td>1</td>\n",
       "      <td>0</td>\n",
       "      <td>1</td>\n",
       "      <td>1</td>\n",
       "      <td>1</td>\n",
       "      <td>0</td>\n",
       "      <td>0</td>\n",
       "      <td>0</td>\n",
       "      <td>0</td>\n",
       "      <td>0</td>\n",
       "      <td>0</td>\n",
       "      <td>0</td>\n",
       "      <td>0</td>\n",
       "      <td>0</td>\n",
       "      <td>0</td>\n",
       "    </tr>\n",
       "    <tr>\n",
       "      <th>3</th>\n",
       "      <td>6375.0</td>\n",
       "      <td>1</td>\n",
       "      <td>0</td>\n",
       "      <td>0</td>\n",
       "      <td>0</td>\n",
       "      <td>0</td>\n",
       "      <td>0</td>\n",
       "      <td>0</td>\n",
       "      <td>0</td>\n",
       "      <td>0</td>\n",
       "      <td>0</td>\n",
       "      <td>0</td>\n",
       "      <td>0</td>\n",
       "      <td>0</td>\n",
       "      <td>0</td>\n",
       "      <td>0</td>\n",
       "      <td>0</td>\n",
       "    </tr>\n",
       "    <tr>\n",
       "      <th>4</th>\n",
       "      <td>9542.0</td>\n",
       "      <td>1</td>\n",
       "      <td>0</td>\n",
       "      <td>0</td>\n",
       "      <td>1</td>\n",
       "      <td>1</td>\n",
       "      <td>1</td>\n",
       "      <td>0</td>\n",
       "      <td>0</td>\n",
       "      <td>0</td>\n",
       "      <td>0</td>\n",
       "      <td>0</td>\n",
       "      <td>0</td>\n",
       "      <td>0</td>\n",
       "      <td>0</td>\n",
       "      <td>0</td>\n",
       "      <td>0</td>\n",
       "    </tr>\n",
       "    <tr>\n",
       "      <th>...</th>\n",
       "      <td>...</td>\n",
       "      <td>...</td>\n",
       "      <td>...</td>\n",
       "      <td>...</td>\n",
       "      <td>...</td>\n",
       "      <td>...</td>\n",
       "      <td>...</td>\n",
       "      <td>...</td>\n",
       "      <td>...</td>\n",
       "      <td>...</td>\n",
       "      <td>...</td>\n",
       "      <td>...</td>\n",
       "      <td>...</td>\n",
       "      <td>...</td>\n",
       "      <td>...</td>\n",
       "      <td>...</td>\n",
       "      <td>...</td>\n",
       "    </tr>\n",
       "    <tr>\n",
       "      <th>717</th>\n",
       "      <td>7041.0</td>\n",
       "      <td>0</td>\n",
       "      <td>0</td>\n",
       "      <td>1</td>\n",
       "      <td>0</td>\n",
       "      <td>0</td>\n",
       "      <td>0</td>\n",
       "      <td>0</td>\n",
       "      <td>0</td>\n",
       "      <td>0</td>\n",
       "      <td>0</td>\n",
       "      <td>0</td>\n",
       "      <td>0</td>\n",
       "      <td>0</td>\n",
       "      <td>0</td>\n",
       "      <td>0</td>\n",
       "      <td>0</td>\n",
       "    </tr>\n",
       "    <tr>\n",
       "      <th>718</th>\n",
       "      <td>8542.0</td>\n",
       "      <td>1</td>\n",
       "      <td>1</td>\n",
       "      <td>1</td>\n",
       "      <td>0</td>\n",
       "      <td>1</td>\n",
       "      <td>0</td>\n",
       "      <td>0</td>\n",
       "      <td>0</td>\n",
       "      <td>0</td>\n",
       "      <td>0</td>\n",
       "      <td>1</td>\n",
       "      <td>0</td>\n",
       "      <td>0</td>\n",
       "      <td>0</td>\n",
       "      <td>0</td>\n",
       "      <td>0</td>\n",
       "    </tr>\n",
       "    <tr>\n",
       "      <th>719</th>\n",
       "      <td>6126.0</td>\n",
       "      <td>0</td>\n",
       "      <td>0</td>\n",
       "      <td>0</td>\n",
       "      <td>1</td>\n",
       "      <td>0</td>\n",
       "      <td>0</td>\n",
       "      <td>0</td>\n",
       "      <td>0</td>\n",
       "      <td>0</td>\n",
       "      <td>0</td>\n",
       "      <td>0</td>\n",
       "      <td>0</td>\n",
       "      <td>0</td>\n",
       "      <td>0</td>\n",
       "      <td>0</td>\n",
       "      <td>0</td>\n",
       "    </tr>\n",
       "    <tr>\n",
       "      <th>720</th>\n",
       "      <td>10625.0</td>\n",
       "      <td>0</td>\n",
       "      <td>0</td>\n",
       "      <td>0</td>\n",
       "      <td>1</td>\n",
       "      <td>0</td>\n",
       "      <td>0</td>\n",
       "      <td>0</td>\n",
       "      <td>0</td>\n",
       "      <td>0</td>\n",
       "      <td>0</td>\n",
       "      <td>0</td>\n",
       "      <td>0</td>\n",
       "      <td>0</td>\n",
       "      <td>0</td>\n",
       "      <td>0</td>\n",
       "      <td>0</td>\n",
       "    </tr>\n",
       "    <tr>\n",
       "      <th>721</th>\n",
       "      <td>7791.0</td>\n",
       "      <td>1</td>\n",
       "      <td>0</td>\n",
       "      <td>0</td>\n",
       "      <td>0</td>\n",
       "      <td>0</td>\n",
       "      <td>0</td>\n",
       "      <td>0</td>\n",
       "      <td>0</td>\n",
       "      <td>0</td>\n",
       "      <td>0</td>\n",
       "      <td>0</td>\n",
       "      <td>0</td>\n",
       "      <td>0</td>\n",
       "      <td>0</td>\n",
       "      <td>0</td>\n",
       "      <td>0</td>\n",
       "    </tr>\n",
       "  </tbody>\n",
       "</table>\n",
       "<p>722 rows × 17 columns</p>\n",
       "</div>"
      ],
      "text/plain": [
       "     avg_salary_month  python  spark  aws  excel  sql  sas  keras  pytorch  \\\n",
       "0              6001.0       1      0    0      1    0    1      0        0   \n",
       "1              7292.0       1      0    0      0    0    0      0        0   \n",
       "2              7084.0       1      1    0      1    1    1      0        0   \n",
       "3              6375.0       1      0    0      0    0    0      0        0   \n",
       "4              9542.0       1      0    0      1    1    1      0        0   \n",
       "..                ...     ...    ...  ...    ...  ...  ...    ...      ...   \n",
       "717            7041.0       0      0    1      0    0    0      0        0   \n",
       "718            8542.0       1      1    1      0    1    0      0        0   \n",
       "719            6126.0       0      0    0      1    0    0      0        0   \n",
       "720           10625.0       0      0    0      1    0    0      0        0   \n",
       "721            7791.0       1      0    0      0    0    0      0        0   \n",
       "\n",
       "     scikit  tensor  hadoop  tableau  bi  flink  mongo  google_an  \n",
       "0         0       0       0        1   1      0      0          0  \n",
       "1         0       0       0        0   0      0      0          0  \n",
       "2         0       0       0        0   0      0      0          0  \n",
       "3         0       0       0        0   0      0      0          0  \n",
       "4         0       0       0        0   0      0      0          0  \n",
       "..      ...     ...     ...      ...  ..    ...    ...        ...  \n",
       "717       0       0       0        0   0      0      0          0  \n",
       "718       0       0       1        0   0      0      0          0  \n",
       "719       0       0       0        0   0      0      0          0  \n",
       "720       0       0       0        0   0      0      0          0  \n",
       "721       0       0       0        0   0      0      0          0  \n",
       "\n",
       "[722 rows x 17 columns]"
      ]
     },
     "execution_count": 29,
     "metadata": {},
     "output_type": "execute_result"
    }
   ],
   "source": [
    "\n",
    "#to show all rows\n",
    "pd.set_option('display.max_columns', None)\n",
    "\n",
    "#getting dummy data\n",
    "df_dum = pd.get_dummies(df_model)\n",
    "\n",
    "df_dum"
   ]
  },
  {
   "cell_type": "code",
   "execution_count": 30,
   "metadata": {},
   "outputs": [],
   "source": [
    "#Train - Test split\n",
    "X = df_dum.drop('avg_salary_month', axis = 1)\n",
    "y = df_dum.avg_salary_month.values\n",
    "\n",
    "X_train, X_test, y_train, y_test = train_test_split(X, y, test_size=0.2, random_state=42)\n"
   ]
  },
  {
   "cell_type": "code",
   "execution_count": 31,
   "metadata": {},
   "outputs": [
    {
     "data": {
      "text/html": [
       "<table class=\"simpletable\">\n",
       "<caption>OLS Regression Results</caption>\n",
       "<tr>\n",
       "  <th>Dep. Variable:</th>            <td>y</td>        <th>  R-squared:         </th> <td>   0.178</td> \n",
       "</tr>\n",
       "<tr>\n",
       "  <th>Model:</th>                   <td>OLS</td>       <th>  Adj. R-squared:    </th> <td>   0.159</td> \n",
       "</tr>\n",
       "<tr>\n",
       "  <th>Method:</th>             <td>Least Squares</td>  <th>  F-statistic:       </th> <td>   9.520</td> \n",
       "</tr>\n",
       "<tr>\n",
       "  <th>Date:</th>             <td>Wed, 24 Apr 2024</td> <th>  Prob (F-statistic):</th> <td>1.01e-21</td> \n",
       "</tr>\n",
       "<tr>\n",
       "  <th>Time:</th>                 <td>13:32:15</td>     <th>  Log-Likelihood:    </th> <td> -6749.1</td> \n",
       "</tr>\n",
       "<tr>\n",
       "  <th>No. Observations:</th>      <td>   722</td>      <th>  AIC:               </th> <td>1.353e+04</td>\n",
       "</tr>\n",
       "<tr>\n",
       "  <th>Df Residuals:</th>          <td>   705</td>      <th>  BIC:               </th> <td>1.361e+04</td>\n",
       "</tr>\n",
       "<tr>\n",
       "  <th>Df Model:</th>              <td>    16</td>      <th>                     </th>     <td> </td>    \n",
       "</tr>\n",
       "<tr>\n",
       "  <th>Covariance Type:</th>      <td>nonrobust</td>    <th>                     </th>     <td> </td>    \n",
       "</tr>\n",
       "</table>\n",
       "<table class=\"simpletable\">\n",
       "<tr>\n",
       "      <td></td>         <th>coef</th>     <th>std err</th>      <th>t</th>      <th>P>|t|</th>  <th>[0.025</th>    <th>0.975]</th>  \n",
       "</tr>\n",
       "<tr>\n",
       "  <th>const</th>     <td> 8100.4933</td> <td>  203.593</td> <td>   39.788</td> <td> 0.000</td> <td> 7700.773</td> <td> 8500.214</td>\n",
       "</tr>\n",
       "<tr>\n",
       "  <th>python</th>    <td> 1716.7239</td> <td>  244.329</td> <td>    7.026</td> <td> 0.000</td> <td> 1237.025</td> <td> 2196.423</td>\n",
       "</tr>\n",
       "<tr>\n",
       "  <th>spark</th>     <td> -213.1748</td> <td>  338.404</td> <td>   -0.630</td> <td> 0.529</td> <td> -877.574</td> <td>  451.225</td>\n",
       "</tr>\n",
       "<tr>\n",
       "  <th>aws</th>       <td>  765.9264</td> <td>  272.164</td> <td>    2.814</td> <td> 0.005</td> <td>  231.578</td> <td> 1300.275</td>\n",
       "</tr>\n",
       "<tr>\n",
       "  <th>excel</th>     <td> -413.4388</td> <td>  214.465</td> <td>   -1.928</td> <td> 0.054</td> <td> -834.506</td> <td>    7.628</td>\n",
       "</tr>\n",
       "<tr>\n",
       "  <th>sql</th>       <td> -979.8962</td> <td>  253.864</td> <td>   -3.860</td> <td> 0.000</td> <td>-1478.316</td> <td> -481.477</td>\n",
       "</tr>\n",
       "<tr>\n",
       "  <th>sas</th>       <td> 1448.3430</td> <td>  385.151</td> <td>    3.760</td> <td> 0.000</td> <td>  692.162</td> <td> 2204.524</td>\n",
       "</tr>\n",
       "<tr>\n",
       "  <th>keras</th>     <td> -304.6709</td> <td>  688.138</td> <td>   -0.443</td> <td> 0.658</td> <td>-1655.715</td> <td> 1046.373</td>\n",
       "</tr>\n",
       "<tr>\n",
       "  <th>pytorch</th>   <td>-1670.1397</td> <td>  627.426</td> <td>   -2.662</td> <td> 0.008</td> <td>-2901.987</td> <td> -438.292</td>\n",
       "</tr>\n",
       "<tr>\n",
       "  <th>scikit</th>    <td> 1088.8121</td> <td>  513.115</td> <td>    2.122</td> <td> 0.034</td> <td>   81.396</td> <td> 2096.228</td>\n",
       "</tr>\n",
       "<tr>\n",
       "  <th>tensor</th>    <td> 1254.9345</td> <td>  558.949</td> <td>    2.245</td> <td> 0.025</td> <td>  157.531</td> <td> 2352.338</td>\n",
       "</tr>\n",
       "<tr>\n",
       "  <th>hadoop</th>    <td>  407.4266</td> <td>  349.995</td> <td>    1.164</td> <td> 0.245</td> <td> -279.730</td> <td> 1094.583</td>\n",
       "</tr>\n",
       "<tr>\n",
       "  <th>tableau</th>   <td> -494.8543</td> <td>  316.962</td> <td>   -1.561</td> <td> 0.119</td> <td>-1117.156</td> <td>  127.448</td>\n",
       "</tr>\n",
       "<tr>\n",
       "  <th>bi</th>        <td> -520.4251</td> <td>  455.404</td> <td>   -1.143</td> <td> 0.254</td> <td>-1414.535</td> <td>  373.685</td>\n",
       "</tr>\n",
       "<tr>\n",
       "  <th>flink</th>     <td>  298.2235</td> <td>  944.751</td> <td>    0.316</td> <td> 0.752</td> <td>-1556.638</td> <td> 2153.086</td>\n",
       "</tr>\n",
       "<tr>\n",
       "  <th>mongo</th>     <td>  737.8994</td> <td>  519.936</td> <td>    1.419</td> <td> 0.156</td> <td> -282.910</td> <td> 1758.709</td>\n",
       "</tr>\n",
       "<tr>\n",
       "  <th>google_an</th> <td>-2410.3718</td> <td>  771.426</td> <td>   -3.125</td> <td> 0.002</td> <td>-3924.940</td> <td> -895.804</td>\n",
       "</tr>\n",
       "</table>\n",
       "<table class=\"simpletable\">\n",
       "<tr>\n",
       "  <th>Omnibus:</th>       <td>76.542</td> <th>  Durbin-Watson:     </th> <td>   2.050</td>\n",
       "</tr>\n",
       "<tr>\n",
       "  <th>Prob(Omnibus):</th> <td> 0.000</td> <th>  Jarque-Bera (JB):  </th> <td> 102.210</td>\n",
       "</tr>\n",
       "<tr>\n",
       "  <th>Skew:</th>          <td> 0.816</td> <th>  Prob(JB):          </th> <td>6.39e-23</td>\n",
       "</tr>\n",
       "<tr>\n",
       "  <th>Kurtosis:</th>      <td> 3.858</td> <th>  Cond. No.          </th> <td>    14.0</td>\n",
       "</tr>\n",
       "</table><br/><br/>Notes:<br/>[1] Standard Errors assume that the covariance matrix of the errors is correctly specified."
      ],
      "text/plain": [
       "<class 'statsmodels.iolib.summary.Summary'>\n",
       "\"\"\"\n",
       "                            OLS Regression Results                            \n",
       "==============================================================================\n",
       "Dep. Variable:                      y   R-squared:                       0.178\n",
       "Model:                            OLS   Adj. R-squared:                  0.159\n",
       "Method:                 Least Squares   F-statistic:                     9.520\n",
       "Date:                Wed, 24 Apr 2024   Prob (F-statistic):           1.01e-21\n",
       "Time:                        13:32:15   Log-Likelihood:                -6749.1\n",
       "No. Observations:                 722   AIC:                         1.353e+04\n",
       "Df Residuals:                     705   BIC:                         1.361e+04\n",
       "Df Model:                          16                                         \n",
       "Covariance Type:            nonrobust                                         \n",
       "==============================================================================\n",
       "                 coef    std err          t      P>|t|      [0.025      0.975]\n",
       "------------------------------------------------------------------------------\n",
       "const       8100.4933    203.593     39.788      0.000    7700.773    8500.214\n",
       "python      1716.7239    244.329      7.026      0.000    1237.025    2196.423\n",
       "spark       -213.1748    338.404     -0.630      0.529    -877.574     451.225\n",
       "aws          765.9264    272.164      2.814      0.005     231.578    1300.275\n",
       "excel       -413.4388    214.465     -1.928      0.054    -834.506       7.628\n",
       "sql         -979.8962    253.864     -3.860      0.000   -1478.316    -481.477\n",
       "sas         1448.3430    385.151      3.760      0.000     692.162    2204.524\n",
       "keras       -304.6709    688.138     -0.443      0.658   -1655.715    1046.373\n",
       "pytorch    -1670.1397    627.426     -2.662      0.008   -2901.987    -438.292\n",
       "scikit      1088.8121    513.115      2.122      0.034      81.396    2096.228\n",
       "tensor      1254.9345    558.949      2.245      0.025     157.531    2352.338\n",
       "hadoop       407.4266    349.995      1.164      0.245    -279.730    1094.583\n",
       "tableau     -494.8543    316.962     -1.561      0.119   -1117.156     127.448\n",
       "bi          -520.4251    455.404     -1.143      0.254   -1414.535     373.685\n",
       "flink        298.2235    944.751      0.316      0.752   -1556.638    2153.086\n",
       "mongo        737.8994    519.936      1.419      0.156    -282.910    1758.709\n",
       "google_an  -2410.3718    771.426     -3.125      0.002   -3924.940    -895.804\n",
       "==============================================================================\n",
       "Omnibus:                       76.542   Durbin-Watson:                   2.050\n",
       "Prob(Omnibus):                  0.000   Jarque-Bera (JB):              102.210\n",
       "Skew:                           0.816   Prob(JB):                     6.39e-23\n",
       "Kurtosis:                       3.858   Cond. No.                         14.0\n",
       "==============================================================================\n",
       "\n",
       "Notes:\n",
       "[1] Standard Errors assume that the covariance matrix of the errors is correctly specified.\n",
       "\"\"\""
      ]
     },
     "execution_count": 31,
     "metadata": {},
     "output_type": "execute_result"
    }
   ],
   "source": [
    "#Multiple Linear Regression\n",
    "#statsmodel\n",
    "X_sm = X = sm.add_constant(X)\n",
    "model = sm.OLS(y,X_sm)\n",
    "model.fit().summary()"
   ]
  },
  {
   "cell_type": "markdown",
   "metadata": {},
   "source": [
    "There is alot of Multicollinearity  in this data (occurs when two or more independent variables have a high correlation with one another in a regression model)m so this first model will serve more of a analysis.\n",
    "\n",
    "\n",
    "Our model explains arround 68.9% in the variotion of the monthly salaries (R-squared)\n",
    "P values less than 0.05 means they are significant in our model. When a p-value is reported as p = 0.000, the actual p-value is too small for the software to display \n",
    "\n",
    "- For each additional Rating, we have +403.36 dollars monthly in the salary\n",
    "- For each additional number of competitor, it adds 183 dollars monthly in the salary\n",
    "- Some skills appear to have value in the salary, some appear to not impact it at all\n",
    "- Some industries are more likely to pay more money than others, others pay less\n",
    "- Same for all categories\n",
    "\n",
    "\n",
    "Put more insights here"
   ]
  },
  {
   "cell_type": "code",
   "execution_count": 32,
   "metadata": {},
   "outputs": [
    {
     "data": {
      "text/plain": [
       "-2190.757221080543"
      ]
     },
     "execution_count": 32,
     "metadata": {},
     "output_type": "execute_result"
    }
   ],
   "source": [
    "#sklearn\n",
    "lm = LinearRegression()\n",
    "lm.fit(X_train, y_train)\n",
    "\n",
    "np.mean(cross_val_score(lm,X_train,y_train, scoring = 'neg_mean_absolute_error', cv= 3))"
   ]
  },
  {
   "cell_type": "markdown",
   "metadata": {},
   "source": [
    "neg_mean_absolute_error -> how far we are on average from our general prediction\n",
    "\n",
    "10,346 = 10.346 dollars"
   ]
  },
  {
   "cell_type": "code",
   "execution_count": 33,
   "metadata": {},
   "outputs": [
    {
     "data": {
      "text/html": [
       "<div>\n",
       "<style scoped>\n",
       "    .dataframe tbody tr th:only-of-type {\n",
       "        vertical-align: middle;\n",
       "    }\n",
       "\n",
       "    .dataframe tbody tr th {\n",
       "        vertical-align: top;\n",
       "    }\n",
       "\n",
       "    .dataframe thead th {\n",
       "        text-align: right;\n",
       "    }\n",
       "</style>\n",
       "<table border=\"1\" class=\"dataframe\">\n",
       "  <thead>\n",
       "    <tr style=\"text-align: right;\">\n",
       "      <th></th>\n",
       "      <th>alpha</th>\n",
       "      <th>error</th>\n",
       "    </tr>\n",
       "  </thead>\n",
       "  <tbody>\n",
       "    <tr>\n",
       "      <th>98</th>\n",
       "      <td>0.99</td>\n",
       "      <td>-2182.089685</td>\n",
       "    </tr>\n",
       "  </tbody>\n",
       "</table>\n",
       "</div>"
      ],
      "text/plain": [
       "    alpha        error\n",
       "98   0.99 -2182.089685"
      ]
     },
     "execution_count": 33,
     "metadata": {},
     "output_type": "execute_result"
    },
    {
     "data": {
      "image/png": "[encoded data removed]",
      "text/plain": [
       "<Figure size 640x480 with 1 Axes>"
      ]
     },
     "metadata": {},
     "output_type": "display_data"
    }
   ],
   "source": [
    "#lasso regression \n",
    "lm_l = Lasso(alpha=0.13)\n",
    "lm_l.fit(X_train,y_train)\n",
    "np.mean(cross_val_score(lm_l,X_train,y_train, scoring = 'neg_mean_absolute_error', cv= 5))\n",
    "\n",
    "alpha = []\n",
    "error = []\n",
    "\n",
    "for i in range(1,100):\n",
    "    alpha.append(i/100)\n",
    "    lml = Lasso(alpha=(i/100))\n",
    "    error.append(np.mean(cross_val_score(lml,X_train,y_train, scoring = 'neg_mean_absolute_error', cv= 5)))\n",
    "    \n",
    "plt.plot(alpha,error)\n",
    "\n",
    "err = tuple(zip(alpha,error))\n",
    "df_err = pd.DataFrame(err, columns = ['alpha','error'])\n",
    "df_err[df_err.error == max(df_err.error)]\n"
   ]
  },
  {
   "cell_type": "code",
   "execution_count": 34,
   "metadata": {},
   "outputs": [
    {
     "data": {
      "text/plain": [
       "-2040.788612018062"
      ]
     },
     "execution_count": 34,
     "metadata": {},
     "output_type": "execute_result"
    }
   ],
   "source": [
    "# random forest \n",
    "rf = RandomForestRegressor()\n",
    "\n",
    "np.mean(cross_val_score(rf,X_train,y_train,scoring = 'neg_mean_absolute_error', cv= 3))\n"
   ]
  },
  {
   "cell_type": "code",
   "execution_count": 35,
   "metadata": {},
   "outputs": [
    {
     "name": "stderr",
     "output_type": "stream",
     "text": [
      "c:\\Users\\flpro\\anaconda3\\lib\\site-packages\\sklearn\\model_selection\\_validation.py:425: FitFailedWarning: \n",
      "348 fits failed out of a total of 522.\n",
      "The score on these train-test partitions for these parameters will be set to nan.\n",
      "If these failures are not expected, you can try to debug them by setting error_score='raise'.\n",
      "\n",
      "Below are more details about the failures:\n",
      "--------------------------------------------------------------------------------\n",
      "261 fits failed with the following error:\n",
      "Traceback (most recent call last):\n",
      "  File \"c:\\Users\\flpro\\anaconda3\\lib\\site-packages\\sklearn\\model_selection\\_validation.py\", line 732, in _fit_and_score\n",
      "    estimator.fit(X_train, y_train, **fit_params)\n",
      "  File \"c:\\Users\\flpro\\anaconda3\\lib\\site-packages\\sklearn\\base.py\", line 1144, in wrapper\n",
      "    estimator._validate_params()\n",
      "  File \"c:\\Users\\flpro\\anaconda3\\lib\\site-packages\\sklearn\\base.py\", line 637, in _validate_params\n",
      "    validate_parameter_constraints(\n",
      "  File \"c:\\Users\\flpro\\anaconda3\\lib\\site-packages\\sklearn\\utils\\_param_validation.py\", line 95, in validate_parameter_constraints\n",
      "    raise InvalidParameterError(\n",
      "sklearn.utils._param_validation.InvalidParameterError: The 'criterion' parameter of RandomForestRegressor must be a str among {'poisson', 'friedman_mse', 'squared_error', 'absolute_error'}. Got 'mse' instead.\n",
      "\n",
      "--------------------------------------------------------------------------------\n",
      "87 fits failed with the following error:\n",
      "Traceback (most recent call last):\n",
      "  File \"c:\\Users\\flpro\\anaconda3\\lib\\site-packages\\sklearn\\model_selection\\_validation.py\", line 732, in _fit_and_score\n",
      "    estimator.fit(X_train, y_train, **fit_params)\n",
      "  File \"c:\\Users\\flpro\\anaconda3\\lib\\site-packages\\sklearn\\base.py\", line 1144, in wrapper\n",
      "    estimator._validate_params()\n",
      "  File \"c:\\Users\\flpro\\anaconda3\\lib\\site-packages\\sklearn\\base.py\", line 637, in _validate_params\n",
      "    validate_parameter_constraints(\n",
      "  File \"c:\\Users\\flpro\\anaconda3\\lib\\site-packages\\sklearn\\utils\\_param_validation.py\", line 95, in validate_parameter_constraints\n",
      "    raise InvalidParameterError(\n",
      "sklearn.utils._param_validation.InvalidParameterError: The 'max_features' parameter of RandomForestRegressor must be an int in the range [1, inf), a float in the range (0.0, 1.0], a str among {'sqrt', 'log2'} or None. Got 'auto' instead.\n",
      "\n",
      "  warnings.warn(some_fits_failed_message, FitFailedWarning)\n",
      "c:\\Users\\flpro\\anaconda3\\lib\\site-packages\\sklearn\\model_selection\\_search.py:976: UserWarning: One or more of the test scores are non-finite: [           nan            nan            nan            nan\n",
      "            nan            nan            nan            nan\n",
      "            nan            nan            nan            nan\n",
      "            nan            nan            nan            nan\n",
      "            nan            nan            nan            nan\n",
      "            nan            nan            nan            nan\n",
      "            nan            nan            nan            nan\n",
      "            nan            nan            nan            nan\n",
      "            nan            nan            nan            nan\n",
      "            nan            nan            nan            nan\n",
      "            nan            nan            nan            nan\n",
      "            nan            nan            nan            nan\n",
      "            nan            nan            nan            nan\n",
      "            nan            nan            nan            nan\n",
      "            nan            nan            nan            nan\n",
      "            nan            nan            nan            nan\n",
      "            nan            nan            nan            nan\n",
      "            nan            nan            nan            nan\n",
      "            nan            nan            nan            nan\n",
      "            nan            nan            nan            nan\n",
      "            nan            nan            nan            nan\n",
      "            nan            nan            nan            nan\n",
      "            nan            nan            nan            nan\n",
      "            nan            nan            nan            nan\n",
      "            nan            nan            nan            nan\n",
      "            nan            nan            nan            nan\n",
      "            nan            nan            nan            nan\n",
      "            nan            nan            nan            nan\n",
      "            nan            nan            nan            nan\n",
      " -2052.21638331 -2058.0751003  -2041.84563289 -2037.51724338\n",
      " -2041.77903039 -2031.59637988 -2025.30782143 -2039.4793631\n",
      " -2032.71548197 -2029.43505613 -2038.54293902 -2030.03658026\n",
      " -2033.61069905 -2014.67977546 -2028.43385627 -2037.62880241\n",
      " -2035.47327177 -2024.08163328 -2028.56916803 -2027.33126889\n",
      " -2022.49629463 -2027.74729245 -2028.30012881 -2035.19272233\n",
      " -2029.26205406 -2036.26603012 -2021.4138637  -2038.1438738\n",
      " -2040.30572847 -2069.0723666  -2059.79349925 -2040.3728459\n",
      " -2048.36884726 -2036.91519187 -2030.26505124 -2028.19296779\n",
      " -2034.6248667  -2031.96350444 -2029.1357101  -2046.02397154\n",
      " -2038.13840089 -2029.89752378 -2033.70510344 -2035.67211311\n",
      " -2032.83535716 -2031.88121558 -2033.88350095 -2038.79124954\n",
      " -2034.22922806 -2028.69102727 -2029.99758631 -2030.41489753\n",
      " -2037.0155988  -2033.09828801 -2035.13825776 -2034.65966084\n",
      " -2029.71139164 -2031.2886132 ]\n",
      "  warnings.warn(\n"
     ]
    },
    {
     "data": {
      "text/html": [
       "<style>#sk-container-id-3 {color: black;}#sk-container-id-3 pre{padding: 0;}#sk-container-id-3 div.sk-toggleable {background-color: white;}#sk-container-id-3 label.sk-toggleable__label {cursor: pointer;display: block;width: 100%;margin-bottom: 0;padding: 0.3em;box-sizing: border-box;text-align: center;}#sk-container-id-3 label.sk-toggleable__label-arrow:before {content: \"▸\";float: left;margin-right: 0.25em;color: #696969;}#sk-container-id-3 label.sk-toggleable__label-arrow:hover:before {color: black;}#sk-container-id-3 div.sk-estimator:hover label.sk-toggleable__label-arrow:before {color: black;}#sk-container-id-3 div.sk-toggleable__content {max-height: 0;max-width: 0;overflow: hidden;text-align: left;background-color: #f0f8ff;}#sk-container-id-3 div.sk-toggleable__content pre {margin: 0.2em;color: black;border-radius: 0.25em;background-color: #f0f8ff;}#sk-container-id-3 input.sk-toggleable__control:checked~div.sk-toggleable__content {max-height: 200px;max-width: 100%;overflow: auto;}#sk-container-id-3 input.sk-toggleable__control:checked~label.sk-toggleable__label-arrow:before {content: \"▾\";}#sk-container-id-3 div.sk-estimator input.sk-toggleable__control:checked~label.sk-toggleable__label {background-color: #d4ebff;}#sk-container-id-3 div.sk-label input.sk-toggleable__control:checked~label.sk-toggleable__label {background-color: #d4ebff;}#sk-container-id-3 input.sk-hidden--visually {border: 0;clip: rect(1px 1px 1px 1px);clip: rect(1px, 1px, 1px, 1px);height: 1px;margin: -1px;overflow: hidden;padding: 0;position: absolute;width: 1px;}#sk-container-id-3 div.sk-estimator {font-family: monospace;background-color: #f0f8ff;border: 1px dotted black;border-radius: 0.25em;box-sizing: border-box;margin-bottom: 0.5em;}#sk-container-id-3 div.sk-estimator:hover {background-color: #d4ebff;}#sk-container-id-3 div.sk-parallel-item::after {content: \"\";width: 100%;border-bottom: 1px solid gray;flex-grow: 1;}#sk-container-id-3 div.sk-label:hover label.sk-toggleable__label {background-color: #d4ebff;}#sk-container-id-3 div.sk-serial::before {content: \"\";position: absolute;border-left: 1px solid gray;box-sizing: border-box;top: 0;bottom: 0;left: 50%;z-index: 0;}#sk-container-id-3 div.sk-serial {display: flex;flex-direction: column;align-items: center;background-color: white;padding-right: 0.2em;padding-left: 0.2em;position: relative;}#sk-container-id-3 div.sk-item {position: relative;z-index: 1;}#sk-container-id-3 div.sk-parallel {display: flex;align-items: stretch;justify-content: center;background-color: white;position: relative;}#sk-container-id-3 div.sk-item::before, #sk-container-id-3 div.sk-parallel-item::before {content: \"\";position: absolute;border-left: 1px solid gray;box-sizing: border-box;top: 0;bottom: 0;left: 50%;z-index: -1;}#sk-container-id-3 div.sk-parallel-item {display: flex;flex-direction: column;z-index: 1;position: relative;background-color: white;}#sk-container-id-3 div.sk-parallel-item:first-child::after {align-self: flex-end;width: 50%;}#sk-container-id-3 div.sk-parallel-item:last-child::after {align-self: flex-start;width: 50%;}#sk-container-id-3 div.sk-parallel-item:only-child::after {width: 0;}#sk-container-id-3 div.sk-dashed-wrapped {border: 1px dashed gray;margin: 0 0.4em 0.5em 0.4em;box-sizing: border-box;padding-bottom: 0.4em;background-color: white;}#sk-container-id-3 div.sk-label label {font-family: monospace;font-weight: bold;display: inline-block;line-height: 1.2em;}#sk-container-id-3 div.sk-label-container {text-align: center;}#sk-container-id-3 div.sk-container {/* jupyter's `normalize.less` sets `[hidden] { display: none; }` but bootstrap.min.css set `[hidden] { display: none !important; }` so we also need the `!important` here to be able to override the default hidden behavior on the sphinx rendered scikit-learn.org. See: https://github.com/scikit-learn/scikit-learn/issues/21755 */display: inline-block !important;position: relative;}#sk-container-id-3 div.sk-text-repr-fallback {display: none;}</style><div id=\"sk-container-id-3\" class=\"sk-top-container\"><div class=\"sk-text-repr-fallback\"><pre>GridSearchCV(cv=3, estimator=RandomForestRegressor(),\n",
       "             param_grid={&#x27;criterion&#x27;: (&#x27;mse&#x27;, &#x27;absolute_error&#x27;),\n",
       "                         &#x27;max_features&#x27;: (&#x27;auto&#x27;, &#x27;sqrt&#x27;, &#x27;log2&#x27;),\n",
       "                         &#x27;n_estimators&#x27;: range(10, 300, 10)},\n",
       "             scoring=&#x27;neg_mean_absolute_error&#x27;)</pre><b>In a Jupyter environment, please rerun this cell to show the HTML representation or trust the notebook. <br />On GitHub, the HTML representation is unable to render, please try loading this page with nbviewer.org.</b></div><div class=\"sk-container\" hidden><div class=\"sk-item sk-dashed-wrapped\"><div class=\"sk-label-container\"><div class=\"sk-label sk-toggleable\"><input class=\"sk-toggleable__control sk-hidden--visually\" id=\"sk-estimator-id-5\" type=\"checkbox\" ><label for=\"sk-estimator-id-5\" class=\"sk-toggleable__label sk-toggleable__label-arrow\">GridSearchCV</label><div class=\"sk-toggleable__content\"><pre>GridSearchCV(cv=3, estimator=RandomForestRegressor(),\n",
       "             param_grid={&#x27;criterion&#x27;: (&#x27;mse&#x27;, &#x27;absolute_error&#x27;),\n",
       "                         &#x27;max_features&#x27;: (&#x27;auto&#x27;, &#x27;sqrt&#x27;, &#x27;log2&#x27;),\n",
       "                         &#x27;n_estimators&#x27;: range(10, 300, 10)},\n",
       "             scoring=&#x27;neg_mean_absolute_error&#x27;)</pre></div></div></div><div class=\"sk-parallel\"><div class=\"sk-parallel-item\"><div class=\"sk-item\"><div class=\"sk-label-container\"><div class=\"sk-label sk-toggleable\"><input class=\"sk-toggleable__control sk-hidden--visually\" id=\"sk-estimator-id-6\" type=\"checkbox\" ><label for=\"sk-estimator-id-6\" class=\"sk-toggleable__label sk-toggleable__label-arrow\">estimator: RandomForestRegressor</label><div class=\"sk-toggleable__content\"><pre>RandomForestRegressor()</pre></div></div></div><div class=\"sk-serial\"><div class=\"sk-item\"><div class=\"sk-estimator sk-toggleable\"><input class=\"sk-toggleable__control sk-hidden--visually\" id=\"sk-estimator-id-7\" type=\"checkbox\" ><label for=\"sk-estimator-id-7\" class=\"sk-toggleable__label sk-toggleable__label-arrow\">RandomForestRegressor</label><div class=\"sk-toggleable__content\"><pre>RandomForestRegressor()</pre></div></div></div></div></div></div></div></div></div></div>"
      ],
      "text/plain": [
       "GridSearchCV(cv=3, estimator=RandomForestRegressor(),\n",
       "             param_grid={'criterion': ('mse', 'absolute_error'),\n",
       "                         'max_features': ('auto', 'sqrt', 'log2'),\n",
       "                         'n_estimators': range(10, 300, 10)},\n",
       "             scoring='neg_mean_absolute_error')"
      ]
     },
     "execution_count": 35,
     "metadata": {},
     "output_type": "execute_result"
    }
   ],
   "source": [
    "# tune models GridsearchCV \n",
    "parameters = {'n_estimators':range(10,300,10), 'criterion':('mse','absolute_error'), 'max_features':('auto','sqrt','log2')}\n",
    "\n",
    "gs = GridSearchCV(rf,parameters,scoring='neg_mean_absolute_error',cv=3)\n",
    "gs.fit(X_train,y_train)\n"
   ]
  },
  {
   "cell_type": "code",
   "execution_count": 36,
   "metadata": {},
   "outputs": [
    {
     "data": {
      "text/plain": [
       "-2014.6797754621064"
      ]
     },
     "execution_count": 36,
     "metadata": {},
     "output_type": "execute_result"
    }
   ],
   "source": [
    "gs.best_score_"
   ]
  },
  {
   "cell_type": "code",
   "execution_count": 37,
   "metadata": {},
   "outputs": [
    {
     "data": {
      "text/html": [
       "<style>#sk-container-id-4 {color: black;}#sk-container-id-4 pre{padding: 0;}#sk-container-id-4 div.sk-toggleable {background-color: white;}#sk-container-id-4 label.sk-toggleable__label {cursor: pointer;display: block;width: 100%;margin-bottom: 0;padding: 0.3em;box-sizing: border-box;text-align: center;}#sk-container-id-4 label.sk-toggleable__label-arrow:before {content: \"▸\";float: left;margin-right: 0.25em;color: #696969;}#sk-container-id-4 label.sk-toggleable__label-arrow:hover:before {color: black;}#sk-container-id-4 div.sk-estimator:hover label.sk-toggleable__label-arrow:before {color: black;}#sk-container-id-4 div.sk-toggleable__content {max-height: 0;max-width: 0;overflow: hidden;text-align: left;background-color: #f0f8ff;}#sk-container-id-4 div.sk-toggleable__content pre {margin: 0.2em;color: black;border-radius: 0.25em;background-color: #f0f8ff;}#sk-container-id-4 input.sk-toggleable__control:checked~div.sk-toggleable__content {max-height: 200px;max-width: 100%;overflow: auto;}#sk-container-id-4 input.sk-toggleable__control:checked~label.sk-toggleable__label-arrow:before {content: \"▾\";}#sk-container-id-4 div.sk-estimator input.sk-toggleable__control:checked~label.sk-toggleable__label {background-color: #d4ebff;}#sk-container-id-4 div.sk-label input.sk-toggleable__control:checked~label.sk-toggleable__label {background-color: #d4ebff;}#sk-container-id-4 input.sk-hidden--visually {border: 0;clip: rect(1px 1px 1px 1px);clip: rect(1px, 1px, 1px, 1px);height: 1px;margin: -1px;overflow: hidden;padding: 0;position: absolute;width: 1px;}#sk-container-id-4 div.sk-estimator {font-family: monospace;background-color: #f0f8ff;border: 1px dotted black;border-radius: 0.25em;box-sizing: border-box;margin-bottom: 0.5em;}#sk-container-id-4 div.sk-estimator:hover {background-color: #d4ebff;}#sk-container-id-4 div.sk-parallel-item::after {content: \"\";width: 100%;border-bottom: 1px solid gray;flex-grow: 1;}#sk-container-id-4 div.sk-label:hover label.sk-toggleable__label {background-color: #d4ebff;}#sk-container-id-4 div.sk-serial::before {content: \"\";position: absolute;border-left: 1px solid gray;box-sizing: border-box;top: 0;bottom: 0;left: 50%;z-index: 0;}#sk-container-id-4 div.sk-serial {display: flex;flex-direction: column;align-items: center;background-color: white;padding-right: 0.2em;padding-left: 0.2em;position: relative;}#sk-container-id-4 div.sk-item {position: relative;z-index: 1;}#sk-container-id-4 div.sk-parallel {display: flex;align-items: stretch;justify-content: center;background-color: white;position: relative;}#sk-container-id-4 div.sk-item::before, #sk-container-id-4 div.sk-parallel-item::before {content: \"\";position: absolute;border-left: 1px solid gray;box-sizing: border-box;top: 0;bottom: 0;left: 50%;z-index: -1;}#sk-container-id-4 div.sk-parallel-item {display: flex;flex-direction: column;z-index: 1;position: relative;background-color: white;}#sk-container-id-4 div.sk-parallel-item:first-child::after {align-self: flex-end;width: 50%;}#sk-container-id-4 div.sk-parallel-item:last-child::after {align-self: flex-start;width: 50%;}#sk-container-id-4 div.sk-parallel-item:only-child::after {width: 0;}#sk-container-id-4 div.sk-dashed-wrapped {border: 1px dashed gray;margin: 0 0.4em 0.5em 0.4em;box-sizing: border-box;padding-bottom: 0.4em;background-color: white;}#sk-container-id-4 div.sk-label label {font-family: monospace;font-weight: bold;display: inline-block;line-height: 1.2em;}#sk-container-id-4 div.sk-label-container {text-align: center;}#sk-container-id-4 div.sk-container {/* jupyter's `normalize.less` sets `[hidden] { display: none; }` but bootstrap.min.css set `[hidden] { display: none !important; }` so we also need the `!important` here to be able to override the default hidden behavior on the sphinx rendered scikit-learn.org. See: https://github.com/scikit-learn/scikit-learn/issues/21755 */display: inline-block !important;position: relative;}#sk-container-id-4 div.sk-text-repr-fallback {display: none;}</style><div id=\"sk-container-id-4\" class=\"sk-top-container\"><div class=\"sk-text-repr-fallback\"><pre>RandomForestRegressor(criterion=&#x27;absolute_error&#x27;, max_features=&#x27;sqrt&#x27;,\n",
       "                      n_estimators=140)</pre><b>In a Jupyter environment, please rerun this cell to show the HTML representation or trust the notebook. <br />On GitHub, the HTML representation is unable to render, please try loading this page with nbviewer.org.</b></div><div class=\"sk-container\" hidden><div class=\"sk-item\"><div class=\"sk-estimator sk-toggleable\"><input class=\"sk-toggleable__control sk-hidden--visually\" id=\"sk-estimator-id-8\" type=\"checkbox\" checked><label for=\"sk-estimator-id-8\" class=\"sk-toggleable__label sk-toggleable__label-arrow\">RandomForestRegressor</label><div class=\"sk-toggleable__content\"><pre>RandomForestRegressor(criterion=&#x27;absolute_error&#x27;, max_features=&#x27;sqrt&#x27;,\n",
       "                      n_estimators=140)</pre></div></div></div></div></div>"
      ],
      "text/plain": [
       "RandomForestRegressor(criterion='absolute_error', max_features='sqrt',\n",
       "                      n_estimators=140)"
      ]
     },
     "execution_count": 37,
     "metadata": {},
     "output_type": "execute_result"
    }
   ],
   "source": [
    "gs.best_estimator_"
   ]
  },
  {
   "cell_type": "code",
   "execution_count": 38,
   "metadata": {},
   "outputs": [
    {
     "name": "stdout",
     "output_type": "stream",
     "text": [
      "[0]\teval-rmse:3459.51806\n",
      "[1]\teval-rmse:3420.94202\n",
      "[2]\teval-rmse:3394.39535\n",
      "[3]\teval-rmse:3371.17742\n",
      "[4]\teval-rmse:3355.56539\n",
      "[5]\teval-rmse:3341.45494\n",
      "[6]\teval-rmse:3325.88608\n",
      "[7]\teval-rmse:3308.43330\n",
      "[8]\teval-rmse:3294.90633\n",
      "[9]\teval-rmse:3283.23782\n",
      "[10]\teval-rmse:3263.35527\n",
      "[11]\teval-rmse:3254.35979\n",
      "[12]\teval-rmse:3248.33009\n",
      "[13]\teval-rmse:3238.29436\n",
      "[14]\teval-rmse:3232.17386\n",
      "[15]\teval-rmse:3215.82827\n",
      "[16]\teval-rmse:3212.87692\n",
      "[17]\teval-rmse:3194.70296\n",
      "[18]\teval-rmse:3186.36472\n",
      "[19]\teval-rmse:3182.13094\n",
      "[20]\teval-rmse:3175.48470\n",
      "[21]\teval-rmse:3162.61995\n",
      "[22]\teval-rmse:3147.59425\n",
      "[23]\teval-rmse:3146.59755\n",
      "[24]\teval-rmse:3142.72530\n",
      "[25]\teval-rmse:3140.59537\n",
      "[26]\teval-rmse:3138.57850\n",
      "[27]\teval-rmse:3136.47185\n",
      "[28]\teval-rmse:3129.04477\n",
      "[29]\teval-rmse:3120.49756\n",
      "[30]\teval-rmse:3117.37096\n",
      "[31]\teval-rmse:3111.25253\n",
      "[32]\teval-rmse:3104.40567\n",
      "[33]\teval-rmse:3103.52961\n",
      "[34]\teval-rmse:3101.14494\n",
      "[35]\teval-rmse:3096.06343\n",
      "[36]\teval-rmse:3077.57605\n",
      "[37]\teval-rmse:3071.60149\n",
      "[38]\teval-rmse:3066.30939\n",
      "[39]\teval-rmse:3064.89322\n",
      "[40]\teval-rmse:3065.11409\n",
      "[41]\teval-rmse:3051.34122\n",
      "[42]\teval-rmse:3048.58146\n",
      "[43]\teval-rmse:3035.13874\n",
      "[44]\teval-rmse:3024.70748\n",
      "[45]\teval-rmse:3020.86583\n",
      "[46]\teval-rmse:3019.67887\n",
      "[47]\teval-rmse:3010.44912\n",
      "[48]\teval-rmse:3008.96182\n",
      "[49]\teval-rmse:2998.50514\n",
      "[50]\teval-rmse:2991.51420\n",
      "[51]\teval-rmse:2990.56910\n",
      "[52]\teval-rmse:2991.20689\n",
      "[53]\teval-rmse:2989.93536\n",
      "[54]\teval-rmse:2981.75374\n",
      "[55]\teval-rmse:2978.67144\n",
      "[56]\teval-rmse:2978.45896\n",
      "[57]\teval-rmse:2978.48768\n",
      "[58]\teval-rmse:2979.12668\n",
      "[59]\teval-rmse:2978.74823\n",
      "[60]\teval-rmse:2978.34154\n",
      "[61]\teval-rmse:2978.10383\n",
      "[62]\teval-rmse:2976.98459\n",
      "[63]\teval-rmse:2969.82148\n",
      "[64]\teval-rmse:2969.98834\n",
      "[65]\teval-rmse:2969.98308\n",
      "[66]\teval-rmse:2970.63427\n",
      "[67]\teval-rmse:2969.41542\n",
      "[68]\teval-rmse:2968.53703\n",
      "[69]\teval-rmse:2967.53609\n",
      "[70]\teval-rmse:2968.39719\n",
      "[71]\teval-rmse:2968.38860\n",
      "[72]\teval-rmse:2968.93183\n",
      "[73]\teval-rmse:2961.89292\n",
      "[74]\teval-rmse:2961.64469\n",
      "[75]\teval-rmse:2961.03672\n",
      "[76]\teval-rmse:2961.11401\n",
      "[77]\teval-rmse:2960.50404\n",
      "[78]\teval-rmse:2959.80513\n",
      "[79]\teval-rmse:2959.27837\n",
      "[80]\teval-rmse:2958.67020\n",
      "[81]\teval-rmse:2958.21172\n",
      "[82]\teval-rmse:2958.84482\n",
      "[83]\teval-rmse:2959.07823\n",
      "[84]\teval-rmse:2956.89797\n",
      "[85]\teval-rmse:2956.83235\n",
      "[86]\teval-rmse:2956.56484\n",
      "[87]\teval-rmse:2956.80631\n",
      "[88]\teval-rmse:2956.71723\n",
      "[89]\teval-rmse:2956.95247\n",
      "[90]\teval-rmse:2956.79401\n",
      "[91]\teval-rmse:2956.48071\n",
      "[92]\teval-rmse:2955.22154\n",
      "[93]\teval-rmse:2955.52213\n",
      "[94]\teval-rmse:2955.78650\n",
      "[95]\teval-rmse:2956.54642\n",
      "[96]\teval-rmse:2956.80020\n",
      "[97]\teval-rmse:2956.03309\n",
      "[98]\teval-rmse:2955.68109\n",
      "[99]\teval-rmse:2955.19775\n"
     ]
    },
    {
     "name": "stderr",
     "output_type": "stream",
     "text": [
      "c:\\Users\\flpro\\anaconda3\\lib\\site-packages\\xgboost\\core.py:160: UserWarning: [13:33:12] WARNING: C:\\buildkite-agent\\builds\\buildkite-windows-cpu-autoscaling-group-i-0b3782d1791676daf-1\\xgboost\\xgboost-ci-windows\\src\\objective\\regression_obj.cu:209: reg:linear is now deprecated in favor of reg:squarederror.\n",
      "  warnings.warn(smsg, UserWarning)\n",
      "c:\\Users\\flpro\\anaconda3\\lib\\site-packages\\xgboost\\core.py:160: UserWarning: [13:33:12] WARNING: C:\\buildkite-agent\\builds\\buildkite-windows-cpu-autoscaling-group-i-0b3782d1791676daf-1\\xgboost\\xgboost-ci-windows\\src\\learner.cc:742: \n",
      "Parameters: { \"n_estimators\" } are not used.\n",
      "\n",
      "  warnings.warn(smsg, UserWarning)\n"
     ]
    },
    {
     "data": {
      "text/plain": [
       "2955.1977544064093"
      ]
     },
     "execution_count": 38,
     "metadata": {},
     "output_type": "execute_result"
    }
   ],
   "source": [
    "#XGBoost\n",
    "\n",
    "# Convert data to DMatrix format for XGBoost\n",
    "dtrain = xgb.DMatrix(X_train, label=y_train)\n",
    "dtest = xgb.DMatrix(X_test, label=y_test)\n",
    "\n",
    "# Define hyperparameters\n",
    "params = {\n",
    "    'objective': 'reg:linear',  # for regression tasks\n",
    "    'max_depth': 3,\n",
    "    'learning_rate': 0.1,\n",
    "    'n_estimators': 100\n",
    "}\n",
    "\n",
    "\n",
    "# Train the model with early stopping\n",
    "bst = xgb.train(params, dtrain, num_boost_round=100, evals=[(dtest, 'eval')], early_stopping_rounds=10)\n",
    "\n",
    "# Get the best score\n",
    "best_score = bst.best_score\n",
    "\n",
    "best_score"
   ]
  },
  {
   "cell_type": "code",
   "execution_count": 39,
   "metadata": {},
   "outputs": [
    {
     "name": "stdout",
     "output_type": "stream",
     "text": [
      "Mean Squared Error: 12648358.842507116\n"
     ]
    }
   ],
   "source": [
    "# Create a Support Vector Regression (SVR) model\n",
    "svr = SVR()\n",
    "\n",
    "# Fit the model on the training data\n",
    "svr.fit(X_train, y_train)\n",
    "\n",
    "# Make predictions\n",
    "predictions = svr.predict(X_test)\n",
    "\n",
    "# Calculate Mean Squared Error\n",
    "mse = mean_squared_error(y_test, predictions)\n",
    "\n",
    "print(f\"Mean Squared Error: {mse}\")"
   ]
  },
  {
   "cell_type": "code",
   "execution_count": 40,
   "metadata": {},
   "outputs": [
    {
     "name": "stdout",
     "output_type": "stream",
     "text": [
      "Mean Squared Error: 65348165.380945444\n"
     ]
    },
    {
     "name": "stderr",
     "output_type": "stream",
     "text": [
      "c:\\Users\\flpro\\anaconda3\\lib\\site-packages\\sklearn\\neural_network\\_multilayer_perceptron.py:691: ConvergenceWarning: Stochastic Optimizer: Maximum iterations (500) reached and the optimization hasn't converged yet.\n",
      "  warnings.warn(\n"
     ]
    }
   ],
   "source": [
    "# Create a Neural Network Regressor model\n",
    "mlp_regressor = MLPRegressor(random_state=1, max_iter=500)\n",
    "\n",
    "# Fit the model on the training data\n",
    "mlp_regressor.fit(X_train, y_train)\n",
    "\n",
    "# Make predictions\n",
    "predictions = mlp_regressor.predict(X_test)\n",
    "\n",
    "# Calculate Mean Squared Error\n",
    "mse = mean_squared_error(y_test, predictions)\n",
    "\n",
    "print(f\"Mean Squared Error: {mse}\")"
   ]
  },
  {
   "cell_type": "code",
   "execution_count": 41,
   "metadata": {},
   "outputs": [],
   "source": [
    "# test ensembles \n",
    "tpred_lm = lm.predict(X_test)\n",
    "tpred_lml = lm_l.predict(X_test)\n",
    "tpred_rf = gs.best_estimator_.predict(X_test)\n",
    "tpred_xg = bst.predict(xgb.DMatrix(X_test))\n",
    "tpred_svr = svr.predict(X_test)\n",
    "tpred_mlp = mlp_regressor.predict(X_test)"
   ]
  },
  {
   "cell_type": "code",
   "execution_count": 42,
   "metadata": {},
   "outputs": [
    {
     "name": "stdout",
     "output_type": "stream",
     "text": [
      "Mean Absolute Error (Linear Regression): 2383.127508651029\n",
      "Mean Absolute Error (Lasso Regression): 2382.8553456700824\n",
      "Mean Absolute Error (Random Forest): 2038.3697536945808\n",
      "Mean Absolute Error (XGBoost): 2189.7710398706895\n",
      "Mean Absolute Error (SVR): 2651.4134779864257\n",
      "Mean Absolute Error (Neural Network Regressor): 7303.678636321089\n"
     ]
    }
   ],
   "source": [
    "#lm\n",
    "print(f\"Mean Absolute Error (Linear Regression): { mean_absolute_error(y_test,tpred_lm)}\")\n",
    "\n",
    "#lml\n",
    "print(f\"Mean Absolute Error (Lasso Regression): {mean_absolute_error(y_test,tpred_lml)}\")\n",
    "\n",
    "#random forest\n",
    "print(f\"Mean Absolute Error (Random Forest): {mean_absolute_error(y_test,tpred_rf)}\")\n",
    "\n",
    "#XGBoost\n",
    "print(f\"Mean Absolute Error (XGBoost): {mean_absolute_error(y_test,tpred_xg)}\")\n",
    "\n",
    "#SVR\n",
    "print(f\"Mean Absolute Error (SVR): {mean_absolute_error(y_test,tpred_svr)}\")\n",
    "\n",
    "#Neural Network Regressor\n",
    "print(f\"Mean Absolute Error (Neural Network Regressor): {mean_absolute_error(y_test,tpred_mlp)}\")\n"
   ]
  },
  {
   "cell_type": "code",
   "execution_count": 43,
   "metadata": {},
   "outputs": [
    {
     "name": "stdout",
     "output_type": "stream",
     "text": [
      "Mean Absolute Error (Linear Regression + Random Forest): 2169.8889793466196\n",
      "Mean Absolute Error (Lasso Regression + Random Forest): 2169.8340873515103\n",
      "Mean Absolute Error (Lasso Regression + Linear Regression): 2382.9914271605558\n",
      "Mean Absolute Error (XGBoost + Random Forest): 2093.243452220597\n",
      "Mean Absolute Error (SVR + Random Forest): 2293.570244115062\n",
      "Mean Absolute Error (Neural Network Regressor + Random Forest): 3875.400075391648\n"
     ]
    }
   ],
   "source": [
    "#combining two models\n",
    "\n",
    "#Linear Regression + Random Forest\n",
    "print(f\"Mean Absolute Error (Linear Regression + Random Forest): {mean_absolute_error(y_test,(tpred_lm+tpred_rf)/2)}\")\n",
    "\n",
    "#Lasso Regression + Random Forest\n",
    "print(f\"Mean Absolute Error (Lasso Regression + Random Forest): {mean_absolute_error(y_test,(tpred_lml+tpred_rf)/2)}\")\n",
    "\n",
    "#Lasso Regression + Linear Regression\n",
    "print(f\"Mean Absolute Error (Lasso Regression + Linear Regression): {mean_absolute_error(y_test,(tpred_lml+tpred_lm)/2)}\")\n",
    "\n",
    "#XGBoost + Random Forest\n",
    "print(f\"Mean Absolute Error (XGBoost + Random Forest): {mean_absolute_error(y_test,(tpred_xg+tpred_rf)/2)}\")\n",
    "\n",
    "#SVR + Random Forest\n",
    "print(f\"Mean Absolute Error (SVR + Random Forest): {mean_absolute_error(y_test,(tpred_svr+tpred_rf)/2)}\")\n",
    "\n",
    "#Neural Network Regressor + Random Forest\n",
    "print(f\"Mean Absolute Error (Neural Network Regressor + Random Forest): {mean_absolute_error(y_test,(tpred_mlp+tpred_rf)/2)}\")\n",
    "\n"
   ]
  },
  {
   "cell_type": "code",
   "execution_count": 44,
   "metadata": {},
   "outputs": [
    {
     "name": "stdout",
     "output_type": "stream",
     "text": [
      "Mean Absolute Error (Neural Network Regressor + XGBoost + Random Forest): 2921.5218946955547\n",
      "Mean Absolute Error (Neural Network Regressor + Lasso Regression  + Linear Regression): 3023.1201501247733\n",
      "Mean Absolute Error (Lasso Regression  + Linear Regression + SVR): 2414.0991089231456\n"
     ]
    }
   ],
   "source": [
    "#combining three models\n",
    "\n",
    "#Neural Network Regressor + XGBoost + Random Forest\n",
    "print(f\"Mean Absolute Error (Neural Network Regressor + XGBoost + Random Forest): {mean_absolute_error(y_test,(tpred_mlp+tpred_xg+tpred_rf)/3)}\")\n",
    "\n",
    "#Neural Network Regressor + Lasso Regression + Linear Regression\n",
    "print(f\"Mean Absolute Error (Neural Network Regressor + Lasso Regression  + Linear Regression): {mean_absolute_error(y_test,(tpred_mlp+tpred_lml+tpred_lm)/3)}\")\n",
    "\n",
    "#Lasso Regression + Linear Regression + SVR \n",
    "print(f\"Mean Absolute Error (Lasso Regression  + Linear Regression + SVR): {mean_absolute_error(y_test,(tpred_lml+tpred_lm+tpred_svr)/3)}\")"
   ]
  },
  {
   "cell_type": "code",
   "execution_count": 45,
   "metadata": {},
   "outputs": [],
   "source": [
    "best_model = RandomForestRegressor()"
   ]
  },
  {
   "cell_type": "code",
   "execution_count": 46,
   "metadata": {},
   "outputs": [
    {
     "data": {
      "text/html": [
       "<style>#sk-container-id-5 {color: black;}#sk-container-id-5 pre{padding: 0;}#sk-container-id-5 div.sk-toggleable {background-color: white;}#sk-container-id-5 label.sk-toggleable__label {cursor: pointer;display: block;width: 100%;margin-bottom: 0;padding: 0.3em;box-sizing: border-box;text-align: center;}#sk-container-id-5 label.sk-toggleable__label-arrow:before {content: \"▸\";float: left;margin-right: 0.25em;color: #696969;}#sk-container-id-5 label.sk-toggleable__label-arrow:hover:before {color: black;}#sk-container-id-5 div.sk-estimator:hover label.sk-toggleable__label-arrow:before {color: black;}#sk-container-id-5 div.sk-toggleable__content {max-height: 0;max-width: 0;overflow: hidden;text-align: left;background-color: #f0f8ff;}#sk-container-id-5 div.sk-toggleable__content pre {margin: 0.2em;color: black;border-radius: 0.25em;background-color: #f0f8ff;}#sk-container-id-5 input.sk-toggleable__control:checked~div.sk-toggleable__content {max-height: 200px;max-width: 100%;overflow: auto;}#sk-container-id-5 input.sk-toggleable__control:checked~label.sk-toggleable__label-arrow:before {content: \"▾\";}#sk-container-id-5 div.sk-estimator input.sk-toggleable__control:checked~label.sk-toggleable__label {background-color: #d4ebff;}#sk-container-id-5 div.sk-label input.sk-toggleable__control:checked~label.sk-toggleable__label {background-color: #d4ebff;}#sk-container-id-5 input.sk-hidden--visually {border: 0;clip: rect(1px 1px 1px 1px);clip: rect(1px, 1px, 1px, 1px);height: 1px;margin: -1px;overflow: hidden;padding: 0;position: absolute;width: 1px;}#sk-container-id-5 div.sk-estimator {font-family: monospace;background-color: #f0f8ff;border: 1px dotted black;border-radius: 0.25em;box-sizing: border-box;margin-bottom: 0.5em;}#sk-container-id-5 div.sk-estimator:hover {background-color: #d4ebff;}#sk-container-id-5 div.sk-parallel-item::after {content: \"\";width: 100%;border-bottom: 1px solid gray;flex-grow: 1;}#sk-container-id-5 div.sk-label:hover label.sk-toggleable__label {background-color: #d4ebff;}#sk-container-id-5 div.sk-serial::before {content: \"\";position: absolute;border-left: 1px solid gray;box-sizing: border-box;top: 0;bottom: 0;left: 50%;z-index: 0;}#sk-container-id-5 div.sk-serial {display: flex;flex-direction: column;align-items: center;background-color: white;padding-right: 0.2em;padding-left: 0.2em;position: relative;}#sk-container-id-5 div.sk-item {position: relative;z-index: 1;}#sk-container-id-5 div.sk-parallel {display: flex;align-items: stretch;justify-content: center;background-color: white;position: relative;}#sk-container-id-5 div.sk-item::before, #sk-container-id-5 div.sk-parallel-item::before {content: \"\";position: absolute;border-left: 1px solid gray;box-sizing: border-box;top: 0;bottom: 0;left: 50%;z-index: -1;}#sk-container-id-5 div.sk-parallel-item {display: flex;flex-direction: column;z-index: 1;position: relative;background-color: white;}#sk-container-id-5 div.sk-parallel-item:first-child::after {align-self: flex-end;width: 50%;}#sk-container-id-5 div.sk-parallel-item:last-child::after {align-self: flex-start;width: 50%;}#sk-container-id-5 div.sk-parallel-item:only-child::after {width: 0;}#sk-container-id-5 div.sk-dashed-wrapped {border: 1px dashed gray;margin: 0 0.4em 0.5em 0.4em;box-sizing: border-box;padding-bottom: 0.4em;background-color: white;}#sk-container-id-5 div.sk-label label {font-family: monospace;font-weight: bold;display: inline-block;line-height: 1.2em;}#sk-container-id-5 div.sk-label-container {text-align: center;}#sk-container-id-5 div.sk-container {/* jupyter's `normalize.less` sets `[hidden] { display: none; }` but bootstrap.min.css set `[hidden] { display: none !important; }` so we also need the `!important` here to be able to override the default hidden behavior on the sphinx rendered scikit-learn.org. See: https://github.com/scikit-learn/scikit-learn/issues/21755 */display: inline-block !important;position: relative;}#sk-container-id-5 div.sk-text-repr-fallback {display: none;}</style><div id=\"sk-container-id-5\" class=\"sk-top-container\"><div class=\"sk-text-repr-fallback\"><pre>RandomForestRegressor()</pre><b>In a Jupyter environment, please rerun this cell to show the HTML representation or trust the notebook. <br />On GitHub, the HTML representation is unable to render, please try loading this page with nbviewer.org.</b></div><div class=\"sk-container\" hidden><div class=\"sk-item\"><div class=\"sk-estimator sk-toggleable\"><input class=\"sk-toggleable__control sk-hidden--visually\" id=\"sk-estimator-id-9\" type=\"checkbox\" checked><label for=\"sk-estimator-id-9\" class=\"sk-toggleable__label sk-toggleable__label-arrow\">RandomForestRegressor</label><div class=\"sk-toggleable__content\"><pre>RandomForestRegressor()</pre></div></div></div></div></div>"
      ],
      "text/plain": [
       "RandomForestRegressor()"
      ]
     },
     "execution_count": 46,
     "metadata": {},
     "output_type": "execute_result"
    }
   ],
   "source": [
    "best_model.fit(X_train, y_train)"
   ]
  },
  {
   "cell_type": "code",
   "execution_count": 47,
   "metadata": {},
   "outputs": [],
   "source": [
    "pickle.dump(best_model, open('../models/pipe.pkl', 'wb'))"
   ]
  }
 ],
 "metadata": {
  "kernelspec": {
   "display_name": "base",
   "language": "python",
   "name": "python3"
  },
  "language_info": {
   "codemirror_mode": {
    "name": "ipython",
    "version": 3
   },
   "file_extension": ".py",
   "mimetype": "text/x-python",
   "name": "python",
   "nbconvert_exporter": "python",
   "pygments_lexer": "ipython3",
   "version": "3.9.19"
  }
 },
 "nbformat": 4,
 "nbformat_minor": 2
}
