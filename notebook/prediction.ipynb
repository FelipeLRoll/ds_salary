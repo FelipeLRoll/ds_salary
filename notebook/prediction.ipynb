{
 "cells": [
  {
   "cell_type": "markdown",
   "metadata": {},
   "source": [
    "This class is used to make quick predictions about the monthly salary, just change the value in -> new_data = np.array([[1,1,1,0,0,0,0,0,0,0,0,0,0,0,0,0]]) to either 1 (Needed) or 0 (not Needed)"
   ]
  },
  {
   "cell_type": "code",
   "execution_count": 14,
   "metadata": {},
   "outputs": [],
   "source": [
    "import pickle\n",
    "import numpy as np\n",
    "import warnings\n",
    "\n",
    "# Suppress specific warning message\n",
    "warnings.filterwarnings(\"ignore\")"
   ]
  },
  {
   "cell_type": "code",
   "execution_count": 16,
   "metadata": {},
   "outputs": [
    {
     "name": "stdout",
     "output_type": "stream",
     "text": [
      "Predicted Salary: [7885.32046537]\n"
     ]
    }
   ],
   "source": [
    "# Load the saved model using pickle\n",
    "with open('../models/pipe.pkl', 'rb') as file:\n",
    "    loaded_model = pickle.load(file)\n",
    "\n",
    "# columns used 'python', 'spark', 'aws', 'excel', 'sql', 'sas', 'keras', 'pytorch', 'scikit','tensor', 'hadoop', 'tableau', 'bi', 'flink', 'mongo', 'google_an'\n",
    "\n",
    "new_data = np.array([[1,1,0,0,0,0,0,0,0,0,0,0,0,0,0,0]]) \n",
    "\n",
    "# Make predictions using the loaded model\n",
    "predicted_salary = loaded_model.predict(new_data)\n",
    "\n",
    "print(\"Predicted Salary:\", predicted_salary)"
   ]
  }
 ],
 "metadata": {
  "kernelspec": {
   "display_name": "base",
   "language": "python",
   "name": "python3"
  },
  "language_info": {
   "codemirror_mode": {
    "name": "ipython",
    "version": 3
   },
   "file_extension": ".py",
   "mimetype": "text/x-python",
   "name": "python",
   "nbconvert_exporter": "python",
   "pygments_lexer": "ipython3",
   "version": "3.9.19"
  }
 },
 "nbformat": 4,
 "nbformat_minor": 2
}
